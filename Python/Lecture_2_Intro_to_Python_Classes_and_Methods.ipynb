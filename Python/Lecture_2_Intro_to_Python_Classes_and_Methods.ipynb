{
  "cells": [
    {
      "cell_type": "markdown",
      "metadata": {
        "id": "view-in-github",
        "colab_type": "text"
      },
      "source": [
        "<a href=\"https://colab.research.google.com/github/KiranReddy0808/FE5213-Quantative-Macroeconomics-With-Python/blob/main/Python/Lecture_2_Intro_to_Python_Classes_and_Methods.ipynb\" target=\"_parent\"><img src=\"https://colab.research.google.com/assets/colab-badge.svg\" alt=\"Open In Colab\"/></a>"
      ]
    },
    {
      "cell_type": "markdown",
      "id": "f5c73711",
      "metadata": {
        "id": "f5c73711"
      },
      "source": [
        "# Introduction to Python Classes and Methods"
      ]
    },
    {
      "cell_type": "markdown",
      "id": "424a4e20",
      "metadata": {
        "id": "424a4e20"
      },
      "source": [
        "\n",
        "### What is a Class?\n",
        "A **class** in Python is like a blueprint for creating objects. Imagine it like a template or a mold that allows you to create multiple instances of something with similar properties.\n",
        "\n",
        "For example, if you want to represent a `Car`, a class is the template that outlines all the features a car can have (like color, model, speed) and actions it can perform (like start, stop, accelerate).\n",
        "\n",
        "A class usually consists of:\n",
        "1. **Attributes**: These are the characteristics or properties (like color, model) of the object created from the class.\n",
        "2. **Methods**: These are the actions that the object can perform (like start, accelerate).\n",
        "\n"
      ]
    },
    {
      "cell_type": "markdown",
      "id": "6e22d416",
      "metadata": {
        "id": "6e22d416"
      },
      "source": [
        "\n",
        "### Why Use Classes?\n",
        "If you are familiar with Excel, think of a class as an organized way to keep your data and functions (think Excel formulas) together. Instead of having data and functions all over the place, a class helps you group related items neatly in one structure.\n"
      ]
    },
    {
      "cell_type": "markdown",
      "id": "87f72bc5",
      "metadata": {
        "id": "87f72bc5"
      },
      "source": [
        "## Defining a Class"
      ]
    },
    {
      "cell_type": "code",
      "execution_count": null,
      "id": "56c6dff6",
      "metadata": {
        "colab": {
          "base_uri": "https://localhost:8080/"
        },
        "id": "56c6dff6",
        "outputId": "fe458eb0-fbca-45ae-99be-d746fb458b4f"
      },
      "outputs": [
        {
          "output_type": "stream",
          "name": "stdout",
          "text": [
            "This car is a 2020 Toyota Camry.\n"
          ]
        }
      ],
      "source": [
        "# Let's start by defining a simple class\n",
        "class Car:\n",
        "    # This is a method called when a new object is created\n",
        "    def __init__(self, make, model, year):\n",
        "        self.make = make  # Attribute make\n",
        "        self.model = model  # Attribute model\n",
        "        self.year = year  # Attribute year\n",
        "\n",
        "    # Method to display information about the car\n",
        "    def display_info(self):\n",
        "        print(f\"This car is a {self.year} {self.make} {self.model}.\")\n",
        "\n",
        "# Creating an object of the Car class\n",
        "my_car = Car(\"Toyota\", \"Camry\", 2020)\n",
        "# Display information about the car\n",
        "my_car.display_info()\n"
      ]
    },
    {
      "cell_type": "code",
      "source": [
        "print(f' This car was made in {my_car.year}')"
      ],
      "metadata": {
        "colab": {
          "base_uri": "https://localhost:8080/"
        },
        "id": "4p9CrUyXgW4Z",
        "outputId": "c668c3e2-17dd-4c2d-d2c9-5fa91f4fba28"
      },
      "id": "4p9CrUyXgW4Z",
      "execution_count": null,
      "outputs": [
        {
          "output_type": "stream",
          "name": "stdout",
          "text": [
            " This car was made in 2020\n"
          ]
        }
      ]
    },
    {
      "cell_type": "markdown",
      "id": "316a020c",
      "metadata": {
        "id": "316a020c"
      },
      "source": [
        "\n",
        "### Breakdown of the Code Above:\n",
        "1. **`class Car:`**: We define a class named `Car`.\n",
        "2. **`__init__` Method**: This is a special method (constructor) that gets called automatically when a new object of the class is created. It initializes the attributes of the object.\n",
        "    - **`self`**: This is a reference to the current object being created. It's like saying \"this object.\"\n",
        "    - **Attributes**: `make`, `model`, and `year` are the properties of the `Car`.\n",
        "3. **`display_info` Method**: A simple method to print the car's details.\n",
        "4. **Creating an Object**: We create an object `my_car` using the `Car` class and pass `\"Toyota\"`, `\"Camry\"`, and `2020` as values to the attributes.\n"
      ]
    },
    {
      "cell_type": "markdown",
      "id": "ddea15a7",
      "metadata": {
        "id": "ddea15a7"
      },
      "source": [
        "## Adding More Functionality"
      ]
    },
    {
      "cell_type": "code",
      "execution_count": null,
      "id": "7d2d3fcf",
      "metadata": {
        "colab": {
          "base_uri": "https://localhost:8080/"
        },
        "id": "7d2d3fcf",
        "outputId": "0a1b86c4-ea6f-4c41-8841-9acf3e758e4e"
      },
      "outputs": [
        {
          "output_type": "stream",
          "name": "stdout",
          "text": [
            "This car is a 2019 Honda Civic.\n",
            "Initial speed of the car is 0\n",
            "The car is now going 30 mph.\n",
            "The car is now going 20 mph.\n"
          ]
        }
      ],
      "source": [
        "# Let's add some more functionality to our Car class\n",
        "class Car:\n",
        "    def __init__(self, make, model, year):\n",
        "        self.make = make\n",
        "        self.model = model\n",
        "        self.year = year\n",
        "        self.speed = 0  # Initial speed of the car is 0\n",
        "\n",
        "    def display_info(self):\n",
        "        print(f\"This car is a {self.year} {self.make} {self.model}.\")\n",
        "\n",
        "    def accelerate(self, increase):\n",
        "        self.speed += increase\n",
        "        print(f\"The car is now going {self.speed} mph.\")\n",
        "\n",
        "    def brake(self, decrease):\n",
        "        self.speed -= decrease\n",
        "        if self.speed < 0:\n",
        "            self.speed = 0\n",
        "        print(f\"The car is now going {self.speed} mph.\")\n",
        "\n",
        "# Create a new car object\n",
        "my_car = Car(\"Honda\", \"Civic\", 2019)\n",
        "my_car.display_info()\n",
        "print(f'Initial speed of the car is {my_car.speed}')\n",
        "\n",
        "# Accelerate the car\n",
        "my_car.accelerate(30)\n",
        "\n",
        "# Brake the car\n",
        "my_car.brake(10)\n"
      ]
    },
    {
      "cell_type": "markdown",
      "id": "f2eb58cd",
      "metadata": {
        "id": "f2eb58cd"
      },
      "source": [
        "\n",
        "### Explanation:\n",
        "- We added a new attribute `speed` to track the car's speed.\n",
        "- We added two new methods:\n",
        "    - **`accelerate`**: Increases the car's speed.\n",
        "    - **`brake`**: Decreases the car's speed but prevents it from going below 0.\n",
        "\n",
        "### Creating and Using Methods\n",
        "Think of methods as the buttons you press to get things done (like Excel functions). Once you've created the object (car), you can call methods to perform actions like accelerate or brake.\n"
      ]
    },
    {
      "cell_type": "markdown",
      "id": "bf412d04",
      "metadata": {
        "id": "bf412d04"
      },
      "source": [
        "## Real-world Analogy: A Bank Account"
      ]
    },
    {
      "cell_type": "code",
      "execution_count": null,
      "id": "f938bd7a",
      "metadata": {
        "colab": {
          "base_uri": "https://localhost:8080/"
        },
        "id": "f938bd7a",
        "outputId": "127dc884-0231-4e39-f52a-2ea51101d001"
      },
      "outputs": [
        {
          "output_type": "stream",
          "name": "stdout",
          "text": [
            "Account holder: Alice, Balance: $2345\n",
            "Deposited $500. New balance is $2845.\n",
            "Withdrew $200. New balance is $2645.\n"
          ]
        }
      ],
      "source": [
        "# Let's create a class for a bank account\n",
        "class BankAccount:\n",
        "    def __init__(self, account_holder, balance=0):\n",
        "        # balance = 0 sets the default value to zero\n",
        "        self.account_holder = account_holder\n",
        "        self.balance = balance\n",
        "\n",
        "    def deposit(self, amount):\n",
        "        self.balance += amount\n",
        "        print(f\"Deposited ${amount}. New balance is ${self.balance}.\")\n",
        "\n",
        "    def withdraw(self, amount):\n",
        "        if amount > self.balance:\n",
        "            print(\"Insufficient funds!\")\n",
        "        else:\n",
        "            self.balance -= amount\n",
        "            print(f\"Withdrew ${amount}. New balance is ${self.balance}.\")\n",
        "\n",
        "    def display_balance(self):\n",
        "        print(f\"Account holder: {self.account_holder}, Balance: ${self.balance}\")\n",
        "\n",
        "# Create a bank account object\n",
        "my_account = BankAccount(balance=2345, account_holder=\"Alice\")\n",
        "my_account.display_balance()\n",
        "\n",
        "# Deposit money\n",
        "my_account.deposit(500)\n",
        "\n",
        "# Withdraw money\n",
        "my_account.withdraw(200)"
      ]
    },
    {
      "cell_type": "code",
      "source": [
        "class Book:\n",
        "    def __init__(self, title, author, pages=300):\n",
        "        self.title = title\n",
        "        self.author = author\n",
        "        self.pages = pages\n",
        "        self.is_read = False\n",
        "\n",
        "    def mark_the_book_as_read(self):\n",
        "        self.is_read = True\n",
        "        print(f\"{self.title} by {self.author} has been read! Wow, we have read {self.pages} pages.\")\n",
        "\n",
        "    def display_info(self):\n",
        "        print(f\"Title: {self.title}\")\n",
        "        print(f\"Author: {self.author}\")\n",
        "        print(f\"Pages: {self.pages}\")"
      ],
      "metadata": {
        "id": "wai3fAM6ymp7"
      },
      "id": "wai3fAM6ymp7",
      "execution_count": null,
      "outputs": []
    },
    {
      "cell_type": "code",
      "source": [
        "my_favorite_book = Book(title=\"The Alchemist\", author=\"Paulo Coelho\")\n",
        "my_favorite_book.display_info()\n",
        "my_favorite_book.mark_the_book_as_read()"
      ],
      "metadata": {
        "colab": {
          "base_uri": "https://localhost:8080/"
        },
        "id": "LrwWKmrc0WTB",
        "outputId": "7f3f6c3d-bd44-4e5f-a60d-af1bb1356b2c"
      },
      "id": "LrwWKmrc0WTB",
      "execution_count": null,
      "outputs": [
        {
          "output_type": "stream",
          "name": "stdout",
          "text": [
            "Title: The Alchemist\n",
            "Author: Paulo Coelho\n",
            "Pages: 300\n",
            "The Alchemist by Paulo Coelho has been read! Wow, we have read 300 pages.\n"
          ]
        }
      ]
    },
    {
      "cell_type": "markdown",
      "id": "bcbcfe47",
      "metadata": {
        "id": "bcbcfe47"
      },
      "source": [
        "\n",
        "### Key Takeaways:\n",
        "1. Classes help you organize related data and functions (methods) in a neat structure.\n",
        "2. You can create multiple objects (instances) from the same class, each with their own separate attributes.\n",
        "3. Methods allow you to define the behavior (or actions) that objects of the class can perform.\n"
      ]
    },
    {
      "cell_type": "markdown",
      "id": "eacebb55",
      "metadata": {
        "id": "eacebb55"
      },
      "source": [
        "# Practice Exercise"
      ]
    },
    {
      "cell_type": "markdown",
      "id": "ef58f670",
      "metadata": {
        "id": "ef58f670"
      },
      "source": [
        "\n",
        "Now it's your turn!\n",
        "\n",
        "### Task:\n",
        "1. Create a class called `Book`.\n",
        "2. The `Book` class should have the following attributes: `title`, `author`, and `pages`.\n",
        "3. Add a method to display the details of the book.\n",
        "4. Add another method to mark the book as read.\n",
        "\n",
        "Try it out and see what you come up with! Remember, practice makes perfect.\n"
      ]
    }
  ],
  "metadata": {
    "colab": {
      "provenance": [],
      "include_colab_link": true
    },
    "language_info": {
      "name": "python"
    },
    "kernelspec": {
      "name": "python3",
      "display_name": "Python 3"
    }
  },
  "nbformat": 4,
  "nbformat_minor": 5
}