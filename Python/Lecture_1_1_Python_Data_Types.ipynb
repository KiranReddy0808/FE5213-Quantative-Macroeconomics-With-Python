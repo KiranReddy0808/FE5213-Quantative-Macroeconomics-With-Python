{
  "cells": [
    {
      "cell_type": "markdown",
      "id": "6532e8d5",
      "metadata": {
        "id": "6532e8d5"
      },
      "source": [
        "# Python Data Types"
      ]
    },
    {
      "cell_type": "markdown",
      "id": "0ddaac91",
      "metadata": {
        "id": "0ddaac91"
      },
      "source": [
        "## Introduction\n",
        "In Python, a data type is a classification that specifies which type of value a variable can hold. Understanding data types is fundamental for programming in Python. This notebook will cover the most common data types in Python, along with examples and exercises to help you practice.\n",
        "\n",
        "### What You'll Learn\n",
        "- **Basic Data Types**: int, float, str, bool, list, tuple, set, dict\n",
        "- **Examples for Each Data Type**\n",
        "- **Exercises to Test Your Understanding**"
      ]
    },
    {
      "cell_type": "markdown",
      "id": "748c75a6",
      "metadata": {
        "id": "748c75a6"
      },
      "source": [
        "## 1. Integer (`int`)"
      ]
    },
    {
      "cell_type": "code",
      "execution_count": null,
      "id": "1b19f448",
      "metadata": {
        "id": "1b19f448",
        "colab": {
          "base_uri": "https://localhost:8080/"
        },
        "outputId": "b775638f-a4ac-4642-eff5-f10c1cad2e67"
      },
      "outputs": [
        {
          "output_type": "stream",
          "name": "stdout",
          "text": [
            "<class 'int'> 10\n",
            "<class 'int'> -5\n",
            "<class 'int'> 123456789\n",
            "<class 'int'> 38765353532785\n"
          ]
        }
      ],
      "source": [
        "# Example\n",
        "x = 10\n",
        "y = -5\n",
        "z = 123456789\n",
        "\n",
        "print(type(x), x)\n",
        "print(type(y), y)\n",
        "print(type(z), z)\n",
        "\n",
        "a = 38765353532785\n",
        "print(type(a), a)"
      ]
    },
    {
      "cell_type": "markdown",
      "id": "43ef03bd",
      "metadata": {
        "id": "43ef03bd"
      },
      "source": [
        "### Exercise\n",
        "Create a variable `a` and assign it any integer value. Print the type and value of `a`."
      ]
    },
    {
      "cell_type": "markdown",
      "id": "bf21bb54",
      "metadata": {
        "id": "bf21bb54"
      },
      "source": [
        "## 2. Float (`float`)"
      ]
    },
    {
      "cell_type": "code",
      "execution_count": null,
      "id": "2358b16c",
      "metadata": {
        "id": "2358b16c",
        "colab": {
          "base_uri": "https://localhost:8080/"
        },
        "outputId": "ef915461-0aff-4ddb-d606-43eb0e38a2c2"
      },
      "outputs": [
        {
          "output_type": "stream",
          "name": "stdout",
          "text": [
            "<class 'float'> 3.14159\n",
            "<class 'float'> -2.718\n",
            "<class 'float'> 123400.0\n"
          ]
        }
      ],
      "source": [
        "# Example\n",
        "pi = 3.14159\n",
        "negative_float = -2.718\n",
        "large_float = 1.234e5 # this is an abbreviation for 1.234 * (10 ** 5) = 1.234 * 100000 = 123400.0\n",
        "\n",
        "print(type(pi), pi)\n",
        "print(type(negative_float), negative_float)\n",
        "print(type(large_float), large_float)"
      ]
    },
    {
      "cell_type": "markdown",
      "id": "d81a6a80",
      "metadata": {
        "id": "d81a6a80"
      },
      "source": [
        "### Exercise\n",
        "Create a variable `b` and assign it any float value. Print the type and value of `b`."
      ]
    },
    {
      "cell_type": "markdown",
      "id": "8e3142c7",
      "metadata": {
        "id": "8e3142c7"
      },
      "source": [
        "## 3. String (`str`)"
      ]
    },
    {
      "cell_type": "code",
      "execution_count": null,
      "id": "c6818dc6",
      "metadata": {
        "id": "c6818dc6",
        "colab": {
          "base_uri": "https://localhost:8080/"
        },
        "outputId": "3363de74-07a8-4f15-c882-9ad74c161c45"
      },
      "outputs": [
        {
          "output_type": "stream",
          "name": "stdout",
          "text": [
            "<class 'str'> Simon\n",
            "<class 'str'> Hello, World!\n",
            "<class 'str'> This is a \n",
            "multi-line string.\n",
            "I like teaching this class <class 'str'>\n"
          ]
        }
      ],
      "source": [
        "# Example\n",
        "name = \"Simon\"\n",
        "greeting = 'Hello, World!'\n",
        "multi_line = '''This is a\n",
        "multi-line string.'''\n",
        "\n",
        "print(type(name), name)\n",
        "print(type(greeting), greeting)\n",
        "print(type(multi_line), multi_line)\n",
        "\n",
        "statement = 'I like teaching this class'\n",
        "print(statement, type(statement))"
      ]
    },
    {
      "cell_type": "markdown",
      "id": "f5003c09",
      "metadata": {
        "id": "f5003c09"
      },
      "source": [
        "### Exercise\n",
        "Create a variable `c` and assign it any string value. Print the type and value of `c`."
      ]
    },
    {
      "cell_type": "markdown",
      "id": "95c856d2",
      "metadata": {
        "id": "95c856d2"
      },
      "source": [
        "## 4. Boolean (`bool`)"
      ]
    },
    {
      "cell_type": "code",
      "execution_count": null,
      "id": "a05d2077",
      "metadata": {
        "id": "a05d2077",
        "colab": {
          "base_uri": "https://localhost:8080/"
        },
        "outputId": "ff1a88c4-e20c-4b0a-c3cb-9f4ff8ae6745"
      },
      "outputs": [
        {
          "output_type": "stream",
          "name": "stdout",
          "text": [
            "<class 'bool'> True\n",
            "<class 'bool'> False\n",
            "<class 'bool'> True\n",
            "<class 'bool'> False\n"
          ]
        }
      ],
      "source": [
        "# Example\n",
        "is_sunny = True\n",
        "is_rainy = False\n",
        "\n",
        "print(type(is_sunny), is_sunny)\n",
        "print(type(is_rainy), is_rainy)\n",
        "\n",
        "a = 10\n",
        "b = 5\n",
        "boolean = a > b\n",
        "print(type(boolean), boolean)\n",
        "\n",
        "semyon_age = 44\n",
        "semyon_is_young = semyon_age < 20\n",
        "print(type(semyon_is_young), semyon_is_young)"
      ]
    },
    {
      "cell_type": "markdown",
      "id": "5dc7083c",
      "metadata": {
        "id": "5dc7083c"
      },
      "source": [
        "### Exercise\n",
        "Create a variable `d` and assign it a boolean value (`True` or `False`). Print the type and value of `d`."
      ]
    },
    {
      "cell_type": "markdown",
      "id": "71c07808",
      "metadata": {
        "id": "71c07808"
      },
      "source": [
        "## 5. List (`list`)"
      ]
    },
    {
      "cell_type": "code",
      "execution_count": null,
      "id": "aa20ba16",
      "metadata": {
        "id": "aa20ba16",
        "colab": {
          "base_uri": "https://localhost:8080/"
        },
        "outputId": "4b169b09-4503-4464-9550-dc8226ddf8ac"
      },
      "outputs": [
        {
          "output_type": "stream",
          "name": "stdout",
          "text": [
            "<class 'list'> ['apple', 'banana', 'cherry']\n",
            "<class 'list'> [1, 2, 3, 4, 5]\n",
            "<class 'list'> [1, 'two', 3.0, True]\n",
            "<class 'list'> [[1, 2, 3], [4, 5, 6], [7, 8, 9]]\n",
            "the type of 1 is not str\n",
            "two\n",
            "the type of 3.0 is not str\n",
            "the type of True is not str\n"
          ]
        }
      ],
      "source": [
        "# Example\n",
        "fruits = ['apple', 'banana', 'cherry']\n",
        "numbers = [1, 2, 3, 4, 5]\n",
        "mixed = [1, 'two', 3.0, True]\n",
        "\n",
        "print(type(fruits), fruits)\n",
        "print(type(numbers), numbers)\n",
        "print(type(mixed), mixed)\n",
        "\n",
        "list_of_lists = [[1, 2, 3], [4, 5, 6], [7, 8, 9]]\n",
        "print(type(list_of_lists), list_of_lists)\n",
        "\n",
        "\n",
        "for i in mixed:\n",
        "    if type(i) == str:\n",
        "        print(i)\n",
        "    else:\n",
        "        print(f'the type of {i} is not str')\n"
      ]
    },
    {
      "cell_type": "markdown",
      "id": "435b6d4f",
      "metadata": {
        "id": "435b6d4f"
      },
      "source": [
        "### Exercise\n",
        "Create a variable `e` and assign it a list containing at least 3 different types of elements (e.g., integer, string, float). Print the type and value of `e`."
      ]
    },
    {
      "cell_type": "markdown",
      "id": "9c62fb14",
      "metadata": {
        "id": "9c62fb14"
      },
      "source": [
        "## 6. Tuple (`tuple`)"
      ]
    },
    {
      "cell_type": "code",
      "execution_count": null,
      "id": "789b2a31",
      "metadata": {
        "id": "789b2a31",
        "colab": {
          "base_uri": "https://localhost:8080/"
        },
        "outputId": "82b29881-15ff-4e2c-84f2-490ce03e4c0e"
      },
      "outputs": [
        {
          "output_type": "stream",
          "name": "stdout",
          "text": [
            "<class 'tuple'> (10.0, 20.0)\n",
            "<class 'tuple'> ('Simon', 25)\n"
          ]
        }
      ],
      "source": [
        "# Example\n",
        "coordinates = (10.0, 20.0)\n",
        "info = ('Simon', 25)\n",
        "\n",
        "print(type(coordinates), coordinates)\n",
        "print(type(info), info)"
      ]
    },
    {
      "cell_type": "markdown",
      "id": "a05131ff",
      "metadata": {
        "id": "a05131ff"
      },
      "source": [
        "### Exercise\n",
        "Create a variable `f` and assign it a tuple containing at least 2 elements. Print the type and value of `f`."
      ]
    },
    {
      "cell_type": "markdown",
      "id": "85c6106e",
      "metadata": {
        "id": "85c6106e"
      },
      "source": [
        "## 7. Set (`set`)"
      ]
    },
    {
      "cell_type": "code",
      "execution_count": null,
      "id": "b1fc47cd",
      "metadata": {
        "id": "b1fc47cd",
        "colab": {
          "base_uri": "https://localhost:8080/"
        },
        "outputId": "0d9dc03e-7d1d-440b-b6d3-fa645e2d603b"
      },
      "outputs": [
        {
          "output_type": "stream",
          "name": "stdout",
          "text": [
            "<class 'set'> {1, 2, 3, 4}\n",
            "<class 'set'> {'banana', 'cherry', 'apple'}\n"
          ]
        }
      ],
      "source": [
        "# Example\n",
        "unique_numbers = {1, 2, 3, 3, 4}\n",
        "fruits_set = {'apple', 'banana', 'cherry'}\n",
        "\n",
        "print(type(unique_numbers), unique_numbers)\n",
        "print(type(fruits_set), fruits_set)"
      ]
    },
    {
      "cell_type": "code",
      "source": [
        "unique_numbers"
      ],
      "metadata": {
        "colab": {
          "base_uri": "https://localhost:8080/"
        },
        "id": "n_SrPZn4YAhq",
        "outputId": "f258f303-fb75-4492-fed6-396ff22764c4"
      },
      "id": "n_SrPZn4YAhq",
      "execution_count": null,
      "outputs": [
        {
          "output_type": "execute_result",
          "data": {
            "text/plain": [
              "{1, 2, 3, 4}"
            ]
          },
          "metadata": {},
          "execution_count": 21
        }
      ]
    },
    {
      "cell_type": "markdown",
      "id": "5faaebff",
      "metadata": {
        "id": "5faaebff"
      },
      "source": [
        "### Exercise\n",
        "Create a variable `g` and assign it a set containing at least 3 unique elements. Print the type and value of `g`."
      ]
    },
    {
      "cell_type": "markdown",
      "id": "f4736451",
      "metadata": {
        "id": "f4736451"
      },
      "source": [
        "## 8. Dictionary (`dict`)"
      ]
    },
    {
      "cell_type": "code",
      "execution_count": null,
      "id": "0b7e0826",
      "metadata": {
        "id": "0b7e0826",
        "colab": {
          "base_uri": "https://localhost:8080/"
        },
        "outputId": "a1bd7e7f-d1ca-4a18-b5e6-ce0904659ae4"
      },
      "outputs": [
        {
          "output_type": "stream",
          "name": "stdout",
          "text": [
            "<class 'dict'> {'name': 'Simon', 'age': 25}\n",
            "<class 'dict'> {'math': 90, 'science': 85}\n"
          ]
        }
      ],
      "source": [
        "# Example\n",
        "person = {'name': 'Simon', 'age': 25}\n",
        "scores = {'math': 90, 'science': 85}\n",
        "\n",
        "print(type(person), person)\n",
        "print(type(scores), scores)"
      ]
    },
    {
      "cell_type": "code",
      "source": [
        "dictionary = {1: \"Monday\", 2: \"Tuesday\", 3: \"Wednesday\"}\n",
        "print(dictionary)\n",
        "dictionary[1]"
      ],
      "metadata": {
        "colab": {
          "base_uri": "https://localhost:8080/",
          "height": 53
        },
        "id": "lRqSjYh0Yxhn",
        "outputId": "589029ab-59e6-45be-df51-99b1802e4a11"
      },
      "id": "lRqSjYh0Yxhn",
      "execution_count": null,
      "outputs": [
        {
          "output_type": "stream",
          "name": "stdout",
          "text": [
            "{1: 'Monday', 2: 'Tuesday', 3: 'Wednesday'}\n"
          ]
        },
        {
          "output_type": "execute_result",
          "data": {
            "text/plain": [
              "'Monday'"
            ],
            "application/vnd.google.colaboratory.intrinsic+json": {
              "type": "string"
            }
          },
          "metadata": {},
          "execution_count": 24
        }
      ]
    },
    {
      "cell_type": "code",
      "source": [
        "person['age']"
      ],
      "metadata": {
        "colab": {
          "base_uri": "https://localhost:8080/"
        },
        "id": "Afcu26P1ZAZq",
        "outputId": "f33b13b1-c730-4322-dc95-ab4db082e18d"
      },
      "id": "Afcu26P1ZAZq",
      "execution_count": null,
      "outputs": [
        {
          "output_type": "execute_result",
          "data": {
            "text/plain": [
              "25"
            ]
          },
          "metadata": {},
          "execution_count": 25
        }
      ]
    },
    {
      "cell_type": "code",
      "source": [
        "persons = {'Simon': {'name': 'Simon', 'age': 25}, 'Semyon': {'name': 'Semyon', 'age': 44}}\n",
        "print(persons['Semyon'])\n",
        "print(persons['Simon'])"
      ],
      "metadata": {
        "colab": {
          "base_uri": "https://localhost:8080/"
        },
        "id": "gJSKVcxMZJFc",
        "outputId": "05eb219e-eafe-467c-b53f-f7481e580572"
      },
      "id": "gJSKVcxMZJFc",
      "execution_count": null,
      "outputs": [
        {
          "output_type": "stream",
          "name": "stdout",
          "text": [
            "{'name': 'Semyon', 'age': 44}\n",
            "{'name': 'Simon', 'age': 25}\n"
          ]
        }
      ]
    },
    {
      "cell_type": "code",
      "source": [
        "persons['Semyon']['age']"
      ],
      "metadata": {
        "colab": {
          "base_uri": "https://localhost:8080/"
        },
        "id": "o7JaH-EtZocc",
        "outputId": "2f9e4617-a445-441f-c49c-4cd86db3beff"
      },
      "id": "o7JaH-EtZocc",
      "execution_count": null,
      "outputs": [
        {
          "output_type": "execute_result",
          "data": {
            "text/plain": [
              "44"
            ]
          },
          "metadata": {},
          "execution_count": 30
        }
      ]
    },
    {
      "cell_type": "markdown",
      "id": "3f72ee20",
      "metadata": {
        "id": "3f72ee20"
      },
      "source": [
        "### Exercise\n",
        "Create a variable `h` and assign it a dictionary with at least 2 key-value pairs. Print the type and value of `h`."
      ]
    },
    {
      "cell_type": "markdown",
      "id": "3fd03931",
      "metadata": {
        "id": "3fd03931"
      },
      "source": [
        "## 9. List Comprehension"
      ]
    },
    {
      "cell_type": "markdown",
      "id": "a78cf096",
      "metadata": {
        "id": "a78cf096"
      },
      "source": [
        "List comprehension provides a concise way to create lists. It consists of brackets containing an expression followed by a `for` clause, and optionally, `if` clauses.\n",
        "        \n",
        "### Syntax\n",
        "```python\n",
        "[expression for item in iterable if condition]\n",
        "```"
      ]
    },
    {
      "cell_type": "code",
      "source": [
        "list(range(10))"
      ],
      "metadata": {
        "colab": {
          "base_uri": "https://localhost:8080/"
        },
        "id": "RKu8aeXgaMnQ",
        "outputId": "c9933012-a2e4-45c3-a80a-1cc5cedfa5f2"
      },
      "id": "RKu8aeXgaMnQ",
      "execution_count": null,
      "outputs": [
        {
          "output_type": "execute_result",
          "data": {
            "text/plain": [
              "[0, 1, 2, 3, 4, 5, 6, 7, 8, 9]"
            ]
          },
          "metadata": {},
          "execution_count": 33
        }
      ]
    },
    {
      "cell_type": "code",
      "source": [
        "even_numbers = [x for x in range(10) if x % 2 == 0]\n",
        "print(even_numbers)"
      ],
      "metadata": {
        "colab": {
          "base_uri": "https://localhost:8080/"
        },
        "id": "6NFRfPhya3Px",
        "outputId": "91dee782-15c4-4f0b-a1dd-976bfac2d415"
      },
      "id": "6NFRfPhya3Px",
      "execution_count": null,
      "outputs": [
        {
          "output_type": "stream",
          "name": "stdout",
          "text": [
            "[0, 2, 4, 6, 8]\n"
          ]
        }
      ]
    },
    {
      "cell_type": "code",
      "execution_count": null,
      "id": "7b34c376",
      "metadata": {
        "id": "7b34c376",
        "colab": {
          "base_uri": "https://localhost:8080/"
        },
        "outputId": "a32fb7c2-42e4-4d6b-e618-82d7e4222921"
      },
      "outputs": [
        {
          "output_type": "stream",
          "name": "stdout",
          "text": [
            "Squares: [0, 1, 4, 9, 16, 25, 36, 49, 64, 81]\n",
            "Even Squares: [0, 4, 16, 36, 64]\n"
          ]
        }
      ],
      "source": [
        "# Example\n",
        "squares = [x**2 for x in range(10)]\n",
        "even_squares = [x**2 for x in range(10) if x % 2 == 0]\n",
        "\n",
        "print(\"Squares:\", squares)\n",
        "print(\"Even Squares:\", even_squares)"
      ]
    },
    {
      "cell_type": "code",
      "source": [
        "squares = []\n",
        "for x in range(10):\n",
        "    squares.append(x**2)\n",
        "squares"
      ],
      "metadata": {
        "id": "LFvWKYLHbQO_"
      },
      "id": "LFvWKYLHbQO_",
      "execution_count": null,
      "outputs": []
    },
    {
      "cell_type": "markdown",
      "id": "3a5ffb3a",
      "metadata": {
        "id": "3a5ffb3a"
      },
      "source": [
        "### Exercise\n",
        "Create a list comprehension that generates a list of the cubes of all odd numbers from 1 to 20. Assign this list to the variable `i` and print it."
      ]
    },
    {
      "cell_type": "markdown",
      "id": "02139348",
      "metadata": {
        "id": "02139348"
      },
      "source": [
        "## 10. Dictionary Comprehension"
      ]
    },
    {
      "cell_type": "markdown",
      "id": "c371bfb4",
      "metadata": {
        "id": "c371bfb4"
      },
      "source": [
        "Dictionary comprehension is similar to list comprehension but is used to create dictionaries.\n",
        "\n",
        "### Syntax\n",
        "```python\n",
        "{key_expression: value_expression for item in iterable if condition}\n",
        "```"
      ]
    },
    {
      "cell_type": "code",
      "source": [
        "integers = {x: x for x in range(10)}\n",
        "print(integers)"
      ],
      "metadata": {
        "colab": {
          "base_uri": "https://localhost:8080/"
        },
        "id": "_FyaLuBfb12A",
        "outputId": "64a3a649-4544-44b3-8d61-26dccc28c09e"
      },
      "id": "_FyaLuBfb12A",
      "execution_count": null,
      "outputs": [
        {
          "output_type": "stream",
          "name": "stdout",
          "text": [
            "{0: 0, 1: 1, 2: 2, 3: 3, 4: 4, 5: 5, 6: 6, 7: 7, 8: 8, 9: 9}\n"
          ]
        }
      ]
    },
    {
      "cell_type": "code",
      "execution_count": null,
      "id": "caadf689",
      "metadata": {
        "id": "caadf689",
        "colab": {
          "base_uri": "https://localhost:8080/"
        },
        "outputId": "25cc116c-e2ef-4583-9933-e90c483fe4dc"
      },
      "outputs": [
        {
          "output_type": "stream",
          "name": "stdout",
          "text": [
            "Square Dict: {1: 1, 2: 4, 3: 9, 4: 16, 5: 25}\n",
            "Even Square Dict: {2: ['the square of 2 is 4', 'the cube of 2 is 8'], 4: ['the square of 4 is 16', 'the cube of 4 is 64']}\n"
          ]
        }
      ],
      "source": [
        "# Example\n",
        "numbers = [1, 2, 3, 4, 5]\n",
        "square_dict = {x: x**2 for x in numbers}\n",
        "even_square_dict = {x: [f'the square of {x} is {x**2}', f'the cube of {x} is {x**3}']\n",
        "                    for x in numbers if x % 2 == 0}\n",
        "\n",
        "print(\"Square Dict:\", square_dict)\n",
        "print(\"Even Square Dict:\", even_square_dict)"
      ]
    },
    {
      "cell_type": "markdown",
      "id": "8329daee",
      "metadata": {
        "id": "8329daee"
      },
      "source": [
        "### Exercise\n",
        "Create a dictionary comprehension that maps numbers from 1 to 10 to their negative values (e.g., 1: -1). Assign this dictionary to the variable `j` and print it."
      ]
    },
    {
      "cell_type": "markdown",
      "id": "797e70e1",
      "metadata": {
        "id": "797e70e1"
      },
      "source": [
        "## Conclusion\n",
        "You have now learned about additional powerful features in Python: **list comprehensions** and **dictionary comprehensions**. These features enable you to create lists and dictionaries efficiently with minimal syntax. Practice the exercises to deepen your understanding!"
      ]
    }
  ],
  "metadata": {
    "kernelspec": {
      "display_name": "Python 3",
      "language": "python",
      "name": "python3"
    },
    "language_info": {
      "name": "python",
      "version": "3.x"
    },
    "colab": {
      "provenance": []
    }
  },
  "nbformat": 4,
  "nbformat_minor": 5
}